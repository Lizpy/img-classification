{
 "cells": [
  {
   "cell_type": "code",
   "execution_count": 3,
   "metadata": {},
   "outputs": [
    {
     "name": "stdout",
     "output_type": "stream",
     "text": [
      "Found 9 images belonging to 3 classes.\n",
      "Epoch 1/10\n",
      "1/1 [==============================] - 2s 2s/step - loss: 1.1871 - accuracy: 0.3333\n",
      "Epoch 2/10\n",
      "1/1 [==============================] - 0s 342ms/step - loss: 1.8671 - accuracy: 0.3333\n",
      "Epoch 3/10\n",
      "1/1 [==============================] - 0s 339ms/step - loss: 1.2415 - accuracy: 0.3333\n",
      "Epoch 4/10\n",
      "1/1 [==============================] - 0s 343ms/step - loss: 0.8069 - accuracy: 0.6667\n",
      "Epoch 5/10\n",
      "1/1 [==============================] - 0s 340ms/step - loss: 1.1322 - accuracy: 0.5556\n",
      "Epoch 6/10\n",
      "1/1 [==============================] - 0s 338ms/step - loss: 0.9798 - accuracy: 0.4444\n",
      "Epoch 7/10\n",
      "1/1 [==============================] - 0s 346ms/step - loss: 0.5920 - accuracy: 0.8889\n",
      "Epoch 8/10\n",
      "1/1 [==============================] - 0s 338ms/step - loss: 0.7855 - accuracy: 0.4444\n",
      "Epoch 9/10\n",
      "1/1 [==============================] - 0s 341ms/step - loss: 0.6075 - accuracy: 0.6667\n",
      "Epoch 10/10\n",
      "1/1 [==============================] - 0s 340ms/step - loss: 0.6857 - accuracy: 0.5556\n",
      "1/1 [==============================] - 1s 720ms/step\n",
      "The building is classified as: collapsed\n"
     ]
    }
   ],
   "source": [
    "import tensorflow as tf\n",
    "from tensorflow.keras.preprocessing import image\n",
    "from tensorflow.keras.models import Model\n",
    "from tensorflow.keras.layers import Dense, GlobalAveragePooling2D\n",
    "from tensorflow.keras.applications import ResNet50\n",
    "from tensorflow.keras.optimizers import Adam\n",
    "from tensorflow.keras.preprocessing.image import ImageDataGenerator\n",
    "import numpy as np\n",
    "\n",
    "# Load pre-trained ResNet50 model without the top layers\n",
    "base_model = ResNet50(weights='imagenet', include_top=False, input_shape=(224, 224, 3))\n",
    "\n",
    "# Freeze the base model layers\n",
    "base_model.trainable = False\n",
    "\n",
    "# Add custom layers for classification\n",
    "model = tf.keras.Sequential([\n",
    "    base_model,\n",
    "    GlobalAveragePooling2D(),\n",
    "    Dense(1024, activation='relu'),\n",
    "    Dense(3, activation='softmax')  # 3 classes: partially damaged, non-damaged, collapsed\n",
    "])\n",
    "\n",
    "# Compile the model\n",
    "model.compile(optimizer=Adam(), loss='categorical_crossentropy', metrics=['accuracy'])\n",
    "\n",
    "# Create ImageDataGenerator for training\n",
    "train_datagen = ImageDataGenerator(rescale=1./255, rotation_range=20, width_shift_range=0.2,\n",
    "                                   height_shift_range=0.2, shear_range=0.2, zoom_range=0.2,\n",
    "                                   horizontal_flip=True, fill_mode='nearest')\n",
    "\n",
    "# Load training data using ImageDataGenerator\n",
    "train_generator = train_datagen.flow_from_directory(\n",
    "    'dataset/train/',  # Path to your training dataset\n",
    "    target_size=(224, 224),\n",
    "    batch_size=32,\n",
    "    class_mode='categorical'  # Use categorical because there are multiple classes\n",
    ")\n",
    "\n",
    "# Train the model (No validation data)\n",
    "model.fit(train_generator, epochs=10)\n",
    "\n",
    "# Save the trained model\n",
    "model.save('models/building_damage_classifier.h5')\n",
    "\n",
    "# Example of using the model for prediction on a new image\n",
    "def classify_image(img_path):\n",
    "    # Load and preprocess the image\n",
    "    img = image.load_img(img_path, target_size=(224, 224))\n",
    "    img_array = image.img_to_array(img)\n",
    "    img_array = np.expand_dims(img_array, axis=0)  # Add batch dimension\n",
    "    img_array = img_array / 255.0  # Normalize the image\n",
    "\n",
    "    # Predict the class\n",
    "    predictions = model.predict(img_array)\n",
    "    class_labels = ['partially damaged', 'non-damaged', 'collapsed']\n",
    "    predicted_class = class_labels[np.argmax(predictions)]\n",
    "\n",
    "    print(f\"The building is classified as: {predicted_class}\")\n",
    "\n",
    "# Example use\n",
    "classify_image('wall.jpg')\n"
   ]
  },
  {
   "cell_type": "code",
   "execution_count": 4,
   "metadata": {},
   "outputs": [
    {
     "name": "stdout",
     "output_type": "stream",
     "text": [
      "2.15.0\n",
      "All imports are successful!\n"
     ]
    }
   ],
   "source": [
    "print(tf.__version__)  # Verify TensorFlow version\n",
    "from tensorflow.keras.preprocessing import image\n",
    "from tensorflow.keras.models import load_model\n",
    "from tensorflow.keras.preprocessing.image import ImageDataGenerator\n",
    "\n",
    "print(\"All imports are successful!\")"
   ]
  },
  {
   "cell_type": "code",
   "execution_count": null,
   "metadata": {},
   "outputs": [],
   "source": []
  }
 ],
 "metadata": {
  "kernelspec": {
   "display_name": "Python 3",
   "language": "python",
   "name": "python3"
  },
  "language_info": {
   "codemirror_mode": {
    "name": "ipython",
    "version": 3
   },
   "file_extension": ".py",
   "mimetype": "text/x-python",
   "name": "python",
   "nbconvert_exporter": "python",
   "pygments_lexer": "ipython3",
   "version": "3.10.14"
  }
 },
 "nbformat": 4,
 "nbformat_minor": 2
}
